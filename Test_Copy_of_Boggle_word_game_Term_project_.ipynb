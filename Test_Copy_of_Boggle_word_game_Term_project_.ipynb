{
  "nbformat": 4,
  "nbformat_minor": 0,
  "metadata": {
    "colab": {
      "provenance": []
    },
    "kernelspec": {
      "name": "python3",
      "display_name": "Python 3"
    },
    "language_info": {
      "name": "python"
    }
  },
  "cells": [
    {
      "cell_type": "markdown",
      "source": [
        "Generate a 4x4 board that consists of random letters. Use ‘random’ and ‘string’e libraries.\n"
      ],
      "metadata": {
        "id": "LBapMoVAeJpa"
      }
    },
    {
      "cell_type": "code",
      "source": [
        "# Importing random module that provides functions to generate random numbers and\n",
        "# string module that provides a collection of string-related functions.\n",
        "\n",
        "import random\n",
        "import string\n",
        "\n",
        "# Function that generates a random letter uppercase letter, returning this randomly\n",
        "# chosen letter\n",
        "def generate_random_letter():\n",
        "  return random.choice(string.ascii_uppercase)\n",
        "\n",
        "#Creates a 4 by 4 board with random letters\n",
        "def create_random_board(rows, cols):\n",
        "  board = []\n",
        "  for _ in range(rows):\n",
        "    row =[generate_random_letter() for _ in range(cols)]\n",
        "    board.append(row)\n",
        "  return board\n",
        "\n",
        "# A function that prints the board\n",
        "def print_board(board):\n",
        "  for row in board:\n",
        "    print(\" \".join(row))\n",
        "\n",
        "# Generates and prints the random 4 by 4 board.\n",
        "random_board = create_random_board(4, 4)\n",
        "print_board(random_board)# In final code, we do not need this step"
      ],
      "metadata": {
        "colab": {
          "base_uri": "https://localhost:8080/"
        },
        "id": "Y21pqvNPeYBp",
        "outputId": "ced872f1-0d1e-47da-8410-c8f87790d819"
      },
      "execution_count": null,
      "outputs": [
        {
          "output_type": "stream",
          "name": "stdout",
          "text": [
            "Z U J S\n",
            "K L D N\n",
            "V J B O\n",
            "L Z V Z\n"
          ]
        }
      ]
    },
    {
      "cell_type": "markdown",
      "source": [
        " Ask user to find all valid English words (3 or more characters) vertically (top-down, down-top) or horizontally (left-right, right-left).\n"
      ],
      "metadata": {
        "id": "TfCTa63m9crg"
      }
    },
    {
      "cell_type": "code",
      "source": [
        "# Defining a function to find valid words in rows of a board, as it iterates through\n",
        "# each row on board, it joins the letters into a single string\n",
        "def find_valid_words_in_rows(board):\n",
        "  words = []\n",
        "  for row in board:\n",
        "    word = \"\".join(row)\n",
        "    words.extend(find_valid_words(word))\n",
        "    return words\n",
        "\n",
        "# Defining a function to find valid words in columns of a board, as it iterates through\n",
        "# each column on board, it joins the letters into a single string\n",
        "def find_valid_words_in_columns(board):\n",
        "  words = []\n",
        "  for col in range(len(board[0])):\n",
        "    word = \"\".join(board[row][col] for row in range(len(board)))\n",
        "    words.extend(find_valid_words(word))\n",
        "    return words\n",
        "\n",
        "# The find_valid_words function takes word as input, iterates through to find all possible\n",
        "# substrings and if it is valid in english dictionary. Each word length would have to be\n",
        "# greater than or equal to 3\n",
        "def find_valid_words(word):\n",
        "  valid_words = []\n",
        "  for i in range(len(word)):\n",
        "      for j in range(i + 2, len(word) +1):\n",
        "          substring = word[i:j]\n",
        "      if len(substring) >= 3 and substring.lower() in english_dictionary:\n",
        "        valid_words.append(substring)\n",
        "  return valid_words\n",
        "\n",
        "# Using the calculate_points function that takes word as input, calculates points based on word length\n",
        "def calculate_points(word):\n",
        "    return len(word)\n",
        "\n",
        "# load a simple english dictionary\n",
        "english_dictionary = set([\"cat\", \"bat\",\"rat\", \"mat\", \"hat\", \"dog\", \"car\"])#what if these words are not\n",
        "#part of the randomly generated letters?\n",
        "\n",
        "# A random 4 by 4 board is generated using the function \"create_random_board\"\n",
        "random_board = create_random_board(4, 4)\n",
        "print_board(random_board)\n",
        "\n",
        "#Finds valid words in rows of random board generated and prints them\n",
        "row_words = find_valid_words_in_rows(random_board)\n",
        "print(\"\\nValid words in rows:\", row_words) #In final code, we dont need this step\n",
        "\n",
        "#Finds valid words in columns of random board generated and prints them\n",
        "column_words = find_valid_words_in_columns(random_board)\n",
        "print(\"\\nValid words in columns:\", column_words) #In final code we dont need this step\n",
        "\n",
        "#to print all valid words in rows & columns\n",
        "all_words = find_valid_words_in_rows(random_board) + find_valid_words_in_columns(random_board)\n",
        "print(\"\\nValid words in rows and columns:\", all_words)\n",
        "\n"
      ],
      "metadata": {
        "id": "u51yqL2bG3GG",
        "colab": {
          "base_uri": "https://localhost:8080/"
        },
        "outputId": "993a1939-49b6-4269-fc8a-86963d05d1da"
      },
      "execution_count": null,
      "outputs": [
        {
          "output_type": "stream",
          "name": "stdout",
          "text": [
            "T Y L K\n",
            "J S H X\n",
            "S K H Q\n",
            "B I A E\n",
            "\n",
            "Valid words in rows: []\n",
            "\n",
            "Valid words in columns: []\n",
            "\n",
            "Valid words in rows and columns: []\n"
          ]
        }
      ]
    },
    {
      "cell_type": "markdown",
      "source": [
        "Users might provide the answer using input function until they decide there is no words left to be found."
      ],
      "metadata": {
        "id": "lU085cx-9dXV"
      }
    },
    {
      "cell_type": "code",
      "source": [
        "# game loop until no words left, starts with setting \"total points\" variable to zero\n",
        "total_points = 0\n",
        "\n",
        "# checks if there any words found, if not, it prints message showing this\n",
        "if not all_words:\n",
        "  print(\"No words were found. Your score is 0.\")\n",
        "else: #otherwise goes in a loop to keep asking the user to input a word until no more words.\n",
        "   while all_words:\n",
        "      user_input = input(\"\\nEnter a word (or type 'exit' to end): \").strip().upper()\n",
        "# checks if the user inputs the word \"exit\", a thank you message and score will pop up\n",
        "\n",
        "      if user_input == 'EXIT':\n",
        "         print(\"\\nThank you for playing! Your final score is {total_points} points.\")\n",
        "         break\n",
        "# checking if the input word is valid as in \"all_words\" list, if true, it calculates\n",
        "# using the \"calculate_points function\"\n",
        "      if user_input in all_words:\n",
        "        points = calculate_points(user_input)\n",
        "        total_points += points\n",
        "        print(f\"Great! '{user_input}' is a valid word. Your earned {points} points. Total points: {total_points}\")\n",
        "        all_words.remove(user_input)\n",
        "      else:\n",
        "        print(f\"sorry, '{user_input}' is not an existing word or has already been found.Give it another go.\")\n",
        "\n",
        "\n",
        "\n"
      ],
      "metadata": {
        "id": "izqtpL-PG-5o",
        "colab": {
          "base_uri": "https://localhost:8080/"
        },
        "outputId": "0e2d5ae2-08cf-4667-998f-991fae8d4cf3"
      },
      "execution_count": null,
      "outputs": [
        {
          "output_type": "stream",
          "name": "stdout",
          "text": [
            "No words were found. Your score is 0.\n"
          ]
        }
      ]
    },
    {
      "cell_type": "markdown",
      "source": [
        "Each time user provides a word, it is checked against the board. The scoring system might be introduced, giving users points for each of the words they find, depending on the length of the word etc."
      ],
      "metadata": {
        "id": "MJmIzZhs9dji"
      }
    },
    {
      "cell_type": "code",
      "source": [
        "# Before adding dictionary, define code to calculate points\n",
        "# def calculate_points(word):\n",
        "#      return len(word)\n",
        "\n",
        "\n",
        "# game loop with no words left set\n",
        "# total_points = 0"
      ],
      "metadata": {
        "id": "I3pO4jACHD4m"
      },
      "execution_count": null,
      "outputs": []
    },
    {
      "cell_type": "markdown",
      "source": [
        " If there is no more words to be found - or at the beginning of the game there is no words the user can find - users might finish the round and receive the score."
      ],
      "metadata": {
        "id": "FaS8r7K19dw-"
      }
    },
    {
      "cell_type": "code",
      "source": [
        "\"\"\" -- at game loop with no words left scoring\n",
        "  total_points = 0\n",
        "  if not all_words:\n",
        "     print(\"No words were found. Your score is 0.\")\n",
        "  else:\n",
        "     while all_words:\n",
        "       user_input = input(\"\\nEnter a word (or type 'exit' to end): \").strip().upper\n",
        "\n",
        "\n",
        "if user_input in all words:\n",
        "  points = calculate_points(user_input)\n",
        "  total_points += points\n",
        "  print(f\"Great! '{user_input}' is a valid word. Your earned {points} points. Total points: {total_points}\")\n",
        "  all_words.remove(user_input)\n",
        "else:\n",
        "     else:\n",
        "    print(f\"sorry, '{user_input}' is not an existing word or has already been found.Give it another go.\")\n",
        "\n",
        "\"\"\"\n"
      ],
      "metadata": {
        "id": "kDv254eHHItU"
      },
      "execution_count": null,
      "outputs": []
    },
    {
      "cell_type": "markdown",
      "source": [
        "Additional functionalities:\n",
        "- generating boards that always contain at least 1 valid English word\n"
      ],
      "metadata": {
        "id": "pCrHz5V29d8H"
      }
    },
    {
      "cell_type": "code",
      "source": [],
      "metadata": {
        "id": "GUm58hgeHN42"
      },
      "execution_count": null,
      "outputs": []
    },
    {
      "cell_type": "markdown",
      "source": [
        "reveal the words option that would list all valid words on the board\n"
      ],
      "metadata": {
        "id": "i1sAMjmQ9eHU"
      }
    },
    {
      "cell_type": "code",
      "source": [],
      "metadata": {
        "id": "0Nf7DXrQHSLE"
      },
      "execution_count": null,
      "outputs": []
    },
    {
      "cell_type": "markdown",
      "source": [
        "ability to look for words diagonally\n"
      ],
      "metadata": {
        "id": "zSMmO2P59eRC"
      }
    },
    {
      "cell_type": "code",
      "source": [],
      "metadata": {
        "id": "ABkY4CPPHXdo"
      },
      "execution_count": null,
      "outputs": []
    },
    {
      "cell_type": "markdown",
      "source": [
        " Graphic User Interface - Front end of the game"
      ],
      "metadata": {
        "id": "U07ux8rf9efr"
      }
    },
    {
      "cell_type": "code",
      "source": [],
      "metadata": {
        "id": "g6Sxq63IHfwG"
      },
      "execution_count": null,
      "outputs": []
    }
  ]
}